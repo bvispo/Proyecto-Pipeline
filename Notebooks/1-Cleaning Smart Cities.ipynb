{
 "cells": [
  {
   "cell_type": "markdown",
   "id": "197bc4f3",
   "metadata": {},
   "source": [
    "# 1. Import libraries"
   ]
  },
  {
   "cell_type": "code",
   "execution_count": 1,
   "id": "0927dd50",
   "metadata": {},
   "outputs": [],
   "source": [
    "# This are the libraries used in this jupyter:\n",
    "import numpy as np \n",
    "import pandas as pd"
   ]
  },
  {
   "cell_type": "markdown",
   "id": "cca31daa",
   "metadata": {},
   "source": [
    "# 2. Import data"
   ]
  },
  {
   "cell_type": "code",
   "execution_count": 2,
   "id": "c3985f8d",
   "metadata": {},
   "outputs": [],
   "source": [
    "df_smart = pd.read_csv(\"../data/Smart_City_index.csv\",encoding = \"ISO-8859-1\")"
   ]
  },
  {
   "cell_type": "markdown",
   "id": "d8818fa5",
   "metadata": {},
   "source": [
    "# 3. EDA"
   ]
  },
  {
   "cell_type": "markdown",
   "id": "05a801ee",
   "metadata": {},
   "source": [
    "## 3.1 Smart City Index"
   ]
  },
  {
   "cell_type": "code",
   "execution_count": 3,
   "id": "67b1ba7d",
   "metadata": {},
   "outputs": [
    {
     "data": {
      "text/html": [
       "<div>\n",
       "<style scoped>\n",
       "    .dataframe tbody tr th:only-of-type {\n",
       "        vertical-align: middle;\n",
       "    }\n",
       "\n",
       "    .dataframe tbody tr th {\n",
       "        vertical-align: top;\n",
       "    }\n",
       "\n",
       "    .dataframe thead th {\n",
       "        text-align: right;\n",
       "    }\n",
       "</style>\n",
       "<table border=\"1\" class=\"dataframe\">\n",
       "  <thead>\n",
       "    <tr style=\"text-align: right;\">\n",
       "      <th></th>\n",
       "      <th>Id</th>\n",
       "      <th>City</th>\n",
       "      <th>Country</th>\n",
       "      <th>Smart_Mobility</th>\n",
       "      <th>Smart_Environment</th>\n",
       "      <th>Smart_Government</th>\n",
       "      <th>Smart_Economy</th>\n",
       "      <th>Smart_People</th>\n",
       "      <th>Smart_Living</th>\n",
       "      <th>SmartCity_Index</th>\n",
       "      <th>SmartCity_Index_relative_Edmonton</th>\n",
       "    </tr>\n",
       "  </thead>\n",
       "  <tbody>\n",
       "    <tr>\n",
       "      <th>0</th>\n",
       "      <td>1</td>\n",
       "      <td>Oslo</td>\n",
       "      <td>Norway</td>\n",
       "      <td>6480</td>\n",
       "      <td>6512</td>\n",
       "      <td>7516</td>\n",
       "      <td>4565</td>\n",
       "      <td>8618</td>\n",
       "      <td>9090</td>\n",
       "      <td>7138</td>\n",
       "      <td>666</td>\n",
       "    </tr>\n",
       "    <tr>\n",
       "      <th>1</th>\n",
       "      <td>2</td>\n",
       "      <td>Bergen</td>\n",
       "      <td>Norway</td>\n",
       "      <td>7097</td>\n",
       "      <td>6876</td>\n",
       "      <td>7350</td>\n",
       "      <td>4905</td>\n",
       "      <td>8050</td>\n",
       "      <td>9090</td>\n",
       "      <td>7296</td>\n",
       "      <td>823</td>\n",
       "    </tr>\n",
       "    <tr>\n",
       "      <th>2</th>\n",
       "      <td>3</td>\n",
       "      <td>Amsterdam</td>\n",
       "      <td>Netherlands</td>\n",
       "      <td>7540</td>\n",
       "      <td>5558</td>\n",
       "      <td>8528</td>\n",
       "      <td>8095</td>\n",
       "      <td>7098</td>\n",
       "      <td>7280</td>\n",
       "      <td>7311</td>\n",
       "      <td>839</td>\n",
       "    </tr>\n",
       "    <tr>\n",
       "      <th>3</th>\n",
       "      <td>4</td>\n",
       "      <td>Copenhagen</td>\n",
       "      <td>Denmark</td>\n",
       "      <td>7490</td>\n",
       "      <td>7920</td>\n",
       "      <td>8726</td>\n",
       "      <td>5580</td>\n",
       "      <td>5780</td>\n",
       "      <td>7200</td>\n",
       "      <td>7171</td>\n",
       "      <td>698</td>\n",
       "    </tr>\n",
       "    <tr>\n",
       "      <th>4</th>\n",
       "      <td>5</td>\n",
       "      <td>Stockholm</td>\n",
       "      <td>Sweden</td>\n",
       "      <td>6122</td>\n",
       "      <td>7692</td>\n",
       "      <td>8354</td>\n",
       "      <td>4330</td>\n",
       "      <td>6743</td>\n",
       "      <td>7730</td>\n",
       "      <td>6812</td>\n",
       "      <td>340</td>\n",
       "    </tr>\n",
       "  </tbody>\n",
       "</table>\n",
       "</div>"
      ],
      "text/plain": [
       "   Id        City      Country  Smart_Mobility   Smart_Environment  \\\n",
       "0   1        Oslo       Norway             6480               6512   \n",
       "1   2      Bergen       Norway             7097               6876   \n",
       "2   3   Amsterdam  Netherlands             7540               5558   \n",
       "3   4  Copenhagen      Denmark             7490               7920   \n",
       "4   5   Stockholm       Sweden             6122               7692   \n",
       "\n",
       "   Smart_Government   Smart_Economy   Smart_People  Smart_Living  \\\n",
       "0               7516            4565          8618          9090   \n",
       "1               7350            4905          8050          9090   \n",
       "2               8528            8095          7098          7280   \n",
       "3               8726            5580          5780          7200   \n",
       "4               8354            4330          6743          7730   \n",
       "\n",
       "   SmartCity_Index  SmartCity_Index_relative_Edmonton  \n",
       "0             7138                                666  \n",
       "1             7296                                823  \n",
       "2             7311                                839  \n",
       "3             7171                                698  \n",
       "4             6812                                340  "
      ]
     },
     "execution_count": 3,
     "metadata": {},
     "output_type": "execute_result"
    }
   ],
   "source": [
    "df_smart.head()"
   ]
  },
  {
   "cell_type": "code",
   "execution_count": 4,
   "id": "3e16d2d5",
   "metadata": {},
   "outputs": [
    {
     "data": {
      "text/plain": [
       "Index(['Id', 'City', 'Country', 'Smart_Mobility ', 'Smart_Environment',\n",
       "       'Smart_Government ', 'Smart_Economy ', 'Smart_People', 'Smart_Living',\n",
       "       'SmartCity_Index', 'SmartCity_Index_relative_Edmonton'],\n",
       "      dtype='object')"
      ]
     },
     "execution_count": 4,
     "metadata": {},
     "output_type": "execute_result"
    }
   ],
   "source": [
    "df_smart.columns"
   ]
  },
  {
   "cell_type": "code",
   "execution_count": 5,
   "id": "229ac39d",
   "metadata": {},
   "outputs": [
    {
     "data": {
      "text/html": [
       "<div>\n",
       "<style scoped>\n",
       "    .dataframe tbody tr th:only-of-type {\n",
       "        vertical-align: middle;\n",
       "    }\n",
       "\n",
       "    .dataframe tbody tr th {\n",
       "        vertical-align: top;\n",
       "    }\n",
       "\n",
       "    .dataframe thead th {\n",
       "        text-align: right;\n",
       "    }\n",
       "</style>\n",
       "<table border=\"1\" class=\"dataframe\">\n",
       "  <thead>\n",
       "    <tr style=\"text-align: right;\">\n",
       "      <th></th>\n",
       "      <th>Id</th>\n",
       "      <th>City</th>\n",
       "      <th>Country</th>\n",
       "      <th>Smart_Mobility</th>\n",
       "      <th>Smart_Environment</th>\n",
       "      <th>Smart_Government</th>\n",
       "      <th>Smart_Economy</th>\n",
       "      <th>Smart_People</th>\n",
       "      <th>Smart_Living</th>\n",
       "      <th>SmartCity_Index</th>\n",
       "      <th>SmartCity_Index_relative_Edmonton</th>\n",
       "    </tr>\n",
       "  </thead>\n",
       "  <tbody>\n",
       "    <tr>\n",
       "      <th>0</th>\n",
       "      <td>1</td>\n",
       "      <td>Oslo</td>\n",
       "      <td>Norway</td>\n",
       "      <td>6480</td>\n",
       "      <td>6512</td>\n",
       "      <td>7516</td>\n",
       "      <td>4565</td>\n",
       "      <td>8618</td>\n",
       "      <td>9090</td>\n",
       "      <td>7138</td>\n",
       "      <td>666</td>\n",
       "    </tr>\n",
       "    <tr>\n",
       "      <th>1</th>\n",
       "      <td>2</td>\n",
       "      <td>Bergen</td>\n",
       "      <td>Norway</td>\n",
       "      <td>7097</td>\n",
       "      <td>6876</td>\n",
       "      <td>7350</td>\n",
       "      <td>4905</td>\n",
       "      <td>8050</td>\n",
       "      <td>9090</td>\n",
       "      <td>7296</td>\n",
       "      <td>823</td>\n",
       "    </tr>\n",
       "    <tr>\n",
       "      <th>2</th>\n",
       "      <td>3</td>\n",
       "      <td>Amsterdam</td>\n",
       "      <td>Netherlands</td>\n",
       "      <td>7540</td>\n",
       "      <td>5558</td>\n",
       "      <td>8528</td>\n",
       "      <td>8095</td>\n",
       "      <td>7098</td>\n",
       "      <td>7280</td>\n",
       "      <td>7311</td>\n",
       "      <td>839</td>\n",
       "    </tr>\n",
       "    <tr>\n",
       "      <th>3</th>\n",
       "      <td>4</td>\n",
       "      <td>Copenhagen</td>\n",
       "      <td>Denmark</td>\n",
       "      <td>7490</td>\n",
       "      <td>7920</td>\n",
       "      <td>8726</td>\n",
       "      <td>5580</td>\n",
       "      <td>5780</td>\n",
       "      <td>7200</td>\n",
       "      <td>7171</td>\n",
       "      <td>698</td>\n",
       "    </tr>\n",
       "    <tr>\n",
       "      <th>4</th>\n",
       "      <td>5</td>\n",
       "      <td>Stockholm</td>\n",
       "      <td>Sweden</td>\n",
       "      <td>6122</td>\n",
       "      <td>7692</td>\n",
       "      <td>8354</td>\n",
       "      <td>4330</td>\n",
       "      <td>6743</td>\n",
       "      <td>7730</td>\n",
       "      <td>6812</td>\n",
       "      <td>340</td>\n",
       "    </tr>\n",
       "  </tbody>\n",
       "</table>\n",
       "</div>"
      ],
      "text/plain": [
       "   Id        City      Country  Smart_Mobility  Smart_Environment  \\\n",
       "0   1        Oslo       Norway            6480               6512   \n",
       "1   2      Bergen       Norway            7097               6876   \n",
       "2   3   Amsterdam  Netherlands            7540               5558   \n",
       "3   4  Copenhagen      Denmark            7490               7920   \n",
       "4   5   Stockholm       Sweden            6122               7692   \n",
       "\n",
       "   Smart_Government  Smart_Economy  Smart_People  Smart_Living  \\\n",
       "0              7516           4565          8618          9090   \n",
       "1              7350           4905          8050          9090   \n",
       "2              8528           8095          7098          7280   \n",
       "3              8726           5580          5780          7200   \n",
       "4              8354           4330          6743          7730   \n",
       "\n",
       "   SmartCity_Index  SmartCity_Index_relative_Edmonton  \n",
       "0             7138                                666  \n",
       "1             7296                                823  \n",
       "2             7311                                839  \n",
       "3             7171                                698  \n",
       "4             6812                                340  "
      ]
     },
     "execution_count": 5,
     "metadata": {},
     "output_type": "execute_result"
    }
   ],
   "source": [
    "# There are some spaces of each column head\n",
    "# Therefore, we need to remove those\n",
    "dict_rename = {'Smart_Mobility ': 'Smart_Mobility',\n",
    "          'Smart_Government ': 'Smart_Government',\n",
    "          'Smart_Economy ': 'Smart_Economy'\n",
    "          }\n",
    "\n",
    "df_smart.rename(columns=dict_rename, inplace=True)\n",
    "df_smart.head()"
   ]
  },
  {
   "cell_type": "code",
   "execution_count": 6,
   "id": "458387f5",
   "metadata": {},
   "outputs": [],
   "source": [
    "# As we are not going to need the followinf columns for this purpose, we remove them\n",
    "df_smart.drop([\"Id\", \"SmartCity_Index_relative_Edmonton\"], axis=1, inplace=True)"
   ]
  },
  {
   "cell_type": "code",
   "execution_count": 7,
   "id": "25c96ba7",
   "metadata": {},
   "outputs": [
    {
     "data": {
      "text/plain": [
       "array(['Oslo', 'Bergen', 'Amsterdam', 'Copenhagen', 'Stockholm',\n",
       "       'Montreal', 'Vienna', 'Odense', 'Singapore', 'Boston', 'Zurich',\n",
       "       'Trondheim', 'VÃ¤sterÃ¥s', 'Aalborg', 'Ottawa', 'Washington, DC',\n",
       "       'Stavanger', 'Los Angeles', 'Helsinki', 'Vancouver', 'Berlin',\n",
       "       'Toronto', 'New York', 'Chicago', 'Taipei', 'DÃ¼sseldorf',\n",
       "       'Reykjavik', 'Lyon', 'Helsingborg', 'Munich', 'Philadelphia',\n",
       "       'Hamburg', 'Geneva', 'Luxembourg', 'Aarhus', 'Turku', 'Espoo',\n",
       "       'Paris', 'Hannover', 'Strasbourg', 'Joensuu', 'Sydney',\n",
       "       'Frankfurt am Main', 'San Francisco', 'Oulu', 'Cologne', 'Bochum',\n",
       "       'Stuttgart', 'HÃ¤meenlinna', 'London', 'Tampere', 'Adelaide',\n",
       "       'Melbourne', 'Tokyo', 'JyvÃ¤skylÃ¤', 'Perth', 'Vantaa', 'Auckland',\n",
       "       'Osaka', 'Bordeaux', 'Milan', 'Madrid', 'Daejeon', 'Nantes',\n",
       "       'Brussels', 'Marseille', 'Leeds', 'Lahti', 'Dublin', 'Abu Dhabi',\n",
       "       'Verona', 'Seoul', 'Nice', 'Tallinn', 'Dubai', 'Catania',\n",
       "       'Bayreuth', 'Turin', 'Florence', 'Birmingham', 'Budapest', 'Bari',\n",
       "       'Bratislava', 'Ljubljana', 'Perugia', 'Tel Aviv', 'Hong Kong',\n",
       "       'Barcelona', 'Ancona', 'Lisbon', 'Prague', 'Rome', 'Shanghai',\n",
       "       'Kuala Lampur', 'Genova', 'Naples', 'Moscow', 'Riga', 'Beijing',\n",
       "       'St Petersburg', 'Calgary', 'Edmonton'], dtype=object)"
      ]
     },
     "execution_count": 7,
     "metadata": {},
     "output_type": "execute_result"
    }
   ],
   "source": [
    "df_smart.City.unique()"
   ]
  },
  {
   "cell_type": "code",
   "execution_count": 8,
   "id": "32391a01",
   "metadata": {},
   "outputs": [],
   "source": [
    "# We are going to replace the misspelled City names:"
   ]
  },
  {
   "cell_type": "code",
   "execution_count": 9,
   "id": "c297379b",
   "metadata": {},
   "outputs": [],
   "source": [
    "df_smart[\"City\"] = df_smart[\"City\"].str.replace(\"DÃ¼sseldorf\", \"Dusseldorf\")\n",
    "df_smart[\"City\"] = df_smart[\"City\"].str.replace(\"VÃ¤sterÃ¥s\", \"Vasteras\")\n",
    "df_smart[\"City\"] = df_smart[\"City\"].str.replace(\"HÃ¤meenlinna\", \"Hameenlinna\")\n",
    "df_smart[\"City\"] = df_smart[\"City\"].str.replace(\"JyvÃ¤skylÃ¤\", \"Jyvaskyla\")\n",
    "df_smart[\"Country\"] = df_smart[\"Country\"].str.replace(\"United States\", \"United States Of America\")"
   ]
  },
  {
   "cell_type": "code",
   "execution_count": 10,
   "id": "d9dca96c",
   "metadata": {},
   "outputs": [],
   "source": [
    "#no funciona\n",
    "#dict2_rename = {'DÃ¼sseldorf':'Düsseldorf','VÃ¤sterÃ¥s':'Västerås','HÃ¤meenlinna' : 'Hämeenlinna','JyvÃ¤skylÃ¤' : 'Jyväskylä',}\n",
    "#df_smart.rename(df_smart[\"City\"] == dict2_rename, inplace=True)\n",
    "#df_smart.head()\n"
   ]
  },
  {
   "cell_type": "code",
   "execution_count": 11,
   "id": "52001ff8",
   "metadata": {},
   "outputs": [
    {
     "data": {
      "text/plain": [
       "array(['Oslo', 'Bergen', 'Amsterdam', 'Copenhagen', 'Stockholm',\n",
       "       'Montreal', 'Vienna', 'Odense', 'Singapore', 'Boston', 'Zurich',\n",
       "       'Trondheim', 'Vasteras', 'Aalborg', 'Ottawa', 'Washington, DC',\n",
       "       'Stavanger', 'Los Angeles', 'Helsinki', 'Vancouver', 'Berlin',\n",
       "       'Toronto', 'New York', 'Chicago', 'Taipei', 'Dusseldorf',\n",
       "       'Reykjavik', 'Lyon', 'Helsingborg', 'Munich', 'Philadelphia',\n",
       "       'Hamburg', 'Geneva', 'Luxembourg', 'Aarhus', 'Turku', 'Espoo',\n",
       "       'Paris', 'Hannover', 'Strasbourg', 'Joensuu', 'Sydney',\n",
       "       'Frankfurt am Main', 'San Francisco', 'Oulu', 'Cologne', 'Bochum',\n",
       "       'Stuttgart', 'Hameenlinna', 'London', 'Tampere', 'Adelaide',\n",
       "       'Melbourne', 'Tokyo', 'Jyvaskyla', 'Perth', 'Vantaa', 'Auckland',\n",
       "       'Osaka', 'Bordeaux', 'Milan', 'Madrid', 'Daejeon', 'Nantes',\n",
       "       'Brussels', 'Marseille', 'Leeds', 'Lahti', 'Dublin', 'Abu Dhabi',\n",
       "       'Verona', 'Seoul', 'Nice', 'Tallinn', 'Dubai', 'Catania',\n",
       "       'Bayreuth', 'Turin', 'Florence', 'Birmingham', 'Budapest', 'Bari',\n",
       "       'Bratislava', 'Ljubljana', 'Perugia', 'Tel Aviv', 'Hong Kong',\n",
       "       'Barcelona', 'Ancona', 'Lisbon', 'Prague', 'Rome', 'Shanghai',\n",
       "       'Kuala Lampur', 'Genova', 'Naples', 'Moscow', 'Riga', 'Beijing',\n",
       "       'St Petersburg', 'Calgary', 'Edmonton'], dtype=object)"
      ]
     },
     "execution_count": 11,
     "metadata": {},
     "output_type": "execute_result"
    }
   ],
   "source": [
    "df_smart.City.unique()"
   ]
  },
  {
   "cell_type": "code",
   "execution_count": 12,
   "id": "04402622",
   "metadata": {},
   "outputs": [
    {
     "data": {
      "text/plain": [
       "array(['Norway', 'Netherlands', 'Denmark', 'Sweden', 'Canada', 'Austria',\n",
       "       'Singapore', 'United States Of America', 'Switzerland', 'Finland',\n",
       "       'Germany', 'Taiwan', 'Iceland', 'France', 'Luxembourg',\n",
       "       'Australia', 'United Kingdom', 'Japan', 'New Zealand', 'Italy',\n",
       "       'Spain', 'South Korea', 'Belgium', 'Ireland',\n",
       "       'United Arab Emirates', 'Estonia', 'Hungary', 'Slovakia',\n",
       "       'Slovenia', 'Israel', 'China', 'Portugal', 'Czech Republic',\n",
       "       'Malaysia', 'Russia', 'Latvia'], dtype=object)"
      ]
     },
     "execution_count": 12,
     "metadata": {},
     "output_type": "execute_result"
    }
   ],
   "source": [
    "df_smart.Country.unique()"
   ]
  },
  {
   "cell_type": "code",
   "execution_count": 13,
   "id": "8e040251",
   "metadata": {},
   "outputs": [
    {
     "data": {
      "text/plain": [
       "City                 0\n",
       "Country              0\n",
       "Smart_Mobility       0\n",
       "Smart_Environment    0\n",
       "Smart_Government     0\n",
       "Smart_Economy        0\n",
       "Smart_People         0\n",
       "Smart_Living         0\n",
       "SmartCity_Index      0\n",
       "dtype: int64"
      ]
     },
     "execution_count": 13,
     "metadata": {},
     "output_type": "execute_result"
    }
   ],
   "source": [
    "# Check null values by columns\n",
    "df_smart.isnull().sum()"
   ]
  },
  {
   "cell_type": "markdown",
   "id": "4aca673f",
   "metadata": {},
   "source": [
    "# 4. Download clean data into a new csv. file"
   ]
  },
  {
   "cell_type": "code",
   "execution_count": 14,
   "id": "41d404a7",
   "metadata": {},
   "outputs": [],
   "source": [
    "df_smart.to_csv(\"../data/clean_smart.csv\")"
   ]
  }
 ],
 "metadata": {
  "kernelspec": {
   "display_name": "ironhack",
   "language": "python",
   "name": "ironhack"
  },
  "language_info": {
   "codemirror_mode": {
    "name": "ipython",
    "version": 3
   },
   "file_extension": ".py",
   "mimetype": "text/x-python",
   "name": "python",
   "nbconvert_exporter": "python",
   "pygments_lexer": "ipython3",
   "version": "3.8.5"
  }
 },
 "nbformat": 4,
 "nbformat_minor": 5
}
