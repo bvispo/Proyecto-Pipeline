{
 "cells": [
  {
   "cell_type": "markdown",
   "id": "89993b2f",
   "metadata": {},
   "source": [
    "# 1. Import libraries"
   ]
  },
  {
   "cell_type": "code",
   "execution_count": 29,
   "id": "9b40cd06",
   "metadata": {},
   "outputs": [],
   "source": [
    "import requests\n",
    "from pandas import json_normalize\n",
    "import numpy as np \n",
    "import pandas as pd\n",
    "import os\n",
    "import sys\n",
    "sys.path.append(\"../\")\n",
    "\n",
    "# Importing the cleaning functions:\n",
    "import src.cleaning_functions as cf"
   ]
  },
  {
   "cell_type": "markdown",
   "id": "15314b10",
   "metadata": {},
   "source": [
    "# 2. Import data"
   ]
  },
  {
   "cell_type": "code",
   "execution_count": 30,
   "id": "33759c1e",
   "metadata": {},
   "outputs": [],
   "source": [
    "smart = pd.read_csv(\"../Data/clean_smart.csv\",encoding = \"utf-8\")"
   ]
  },
  {
   "cell_type": "code",
   "execution_count": 31,
   "id": "1fb7e934",
   "metadata": {},
   "outputs": [],
   "source": [
    "#Now we use the string method replace to match dataframe names with APIs:\n",
    "smart[\"Country\"] = smart[\"Country\"].str.replace(\"United States\", \"United States Of America\")"
   ]
  },
  {
   "cell_type": "markdown",
   "id": "8d9a4f26",
   "metadata": {},
   "source": [
    "# 3. Request data from APIS"
   ]
  },
  {
   "cell_type": "markdown",
   "id": "e33816f5",
   "metadata": {},
   "source": [
    "## 3.1 API COUNTRY - CONTINENTS"
   ]
  },
  {
   "cell_type": "code",
   "execution_count": 32,
   "id": "22e13d69",
   "metadata": {},
   "outputs": [],
   "source": [
    "import requests\n",
    "import os\n",
    "from dotenv import load_dotenv\n",
    "load_dotenv()\n",
    "token = os.getenv(\"token\")"
   ]
  },
  {
   "cell_type": "code",
   "execution_count": 33,
   "id": "5b0a3af1",
   "metadata": {},
   "outputs": [],
   "source": [
    "import requests\n",
    "\n",
    "url = \"https://referential.p.rapidapi.com/v1/country\"\n",
    "\n",
    "querystring = {\"fields\":\"currency,currency_num_code,currency_code,continent_code,currency,iso_a3,dial_code\"}\n",
    "\n",
    "headers = {\n",
    "    'x-rapidapi-host': \"referential.p.rapidapi.com\",\n",
    "    'x-rapidapi-key': token\n",
    "    }\n",
    "\n",
    "response = requests.request(\"GET\", url, headers=headers, params=querystring)\n"
   ]
  },
  {
   "cell_type": "code",
   "execution_count": 34,
   "id": "6b9ff625",
   "metadata": {},
   "outputs": [],
   "source": [
    "#response.json()"
   ]
  },
  {
   "cell_type": "code",
   "execution_count": 35,
   "id": "7be02904",
   "metadata": {},
   "outputs": [],
   "source": [
    "def continent(country):\n",
    "    for dicc in response.json():\n",
    "        if country == \"China\":\n",
    "            return \"AS\"\n",
    "        elif country == dicc[\"value\"]:\n",
    "            return dicc[\"continent_code\"]"
   ]
  },
  {
   "cell_type": "code",
   "execution_count": 36,
   "id": "15a9ff29",
   "metadata": {},
   "outputs": [],
   "source": [
    "smart[\"Continent\"] = smart.Country.apply(continent)"
   ]
  },
  {
   "cell_type": "code",
   "execution_count": 37,
   "id": "a01558a8",
   "metadata": {},
   "outputs": [],
   "source": [
    "smart[\"Continent\"] = smart[\"Continent\"].str.replace(\"NA\", \"North America\")\n",
    "smart[\"Continent\"] = smart[\"Continent\"].str.replace(\"OC\", \"Oceania\")\n",
    "smart[\"Continent\"] = smart[\"Continent\"].str.replace(\"EU\", \"Europe\")\n",
    "smart[\"Continent\"] = smart[\"Continent\"].str.replace(\"AS\", \"Asia\")"
   ]
  },
  {
   "cell_type": "markdown",
   "id": "dcfb2822",
   "metadata": {},
   "source": [
    "## 3.1 API LIFE QUALITY"
   ]
  },
  {
   "cell_type": "code",
   "execution_count": 38,
   "id": "d970fb22",
   "metadata": {},
   "outputs": [],
   "source": [
    "cities = smart[\"City\"] = smart[\"City\"].apply(cf.lowercase)"
   ]
  },
  {
   "cell_type": "code",
   "execution_count": 39,
   "id": "663d774e",
   "metadata": {},
   "outputs": [
    {
     "name": "stdout",
     "output_type": "stream",
     "text": [
      "odense\n",
      "trondheim\n",
      "västerås\n",
      "aalborg\n",
      "washington, dc\n",
      "stavanger\n",
      "los angeles\n",
      "new york\n",
      "düsseldorf\n",
      "helsingborg\n",
      "espoo\n",
      "strasbourg\n",
      "joensuu\n",
      "frankfurt am main\n",
      "san francisco\n",
      "bochum\n",
      "hämeenlinna\n",
      "jyväskylä\n",
      "vantaa\n",
      "daejeon\n",
      "lahti\n",
      "abu dhabi\n",
      "verona\n",
      "catania\n",
      "bayreuth\n",
      "bari\n",
      "perugia\n",
      "tel aviv\n",
      "hong kong\n",
      "ancona\n",
      "kuala lampur\n",
      "genova\n",
      "st petersburg\n"
     ]
    }
   ],
   "source": [
    "scores =[]\n",
    "for city in cities:\n",
    "    try: \n",
    "        response = requests.get(f\"https://api.teleport.org/api/urban_areas/slug:{city}/scores/\").json()\n",
    "        scores.append(response[\"teleport_city_score\"])\n",
    "    except:\n",
    "        print(city)\n",
    "        scores.append(np.nan)"
   ]
  },
  {
   "cell_type": "code",
   "execution_count": 40,
   "id": "5d0c3e56",
   "metadata": {},
   "outputs": [],
   "source": [
    "dic_quality = {}\n",
    "\n",
    "for i in range (len(cities)):\n",
    "    dic_quality.update({cities[i]:scores[i]})"
   ]
  },
  {
   "cell_type": "code",
   "execution_count": 41,
   "id": "605d3759",
   "metadata": {},
   "outputs": [],
   "source": [
    "smart[\"Life_Quality\"]= smart[\"City\"].map(dic_quality)"
   ]
  },
  {
   "cell_type": "markdown",
   "id": "fcaa3309",
   "metadata": {},
   "source": [
    "# 4. Download clean data into a new csv. file"
   ]
  },
  {
   "cell_type": "code",
   "execution_count": 25,
   "id": "a07ddb28",
   "metadata": {},
   "outputs": [],
   "source": [
    "smart.to_csv(\"../data/continent_smart.csv\", index=False)"
   ]
  }
 ],
 "metadata": {
  "kernelspec": {
   "display_name": "ironhack",
   "language": "python",
   "name": "ironhack"
  },
  "language_info": {
   "codemirror_mode": {
    "name": "ipython",
    "version": 3
   },
   "file_extension": ".py",
   "mimetype": "text/x-python",
   "name": "python",
   "nbconvert_exporter": "python",
   "pygments_lexer": "ipython3",
   "version": "3.8.5"
  }
 },
 "nbformat": 4,
 "nbformat_minor": 5
}
