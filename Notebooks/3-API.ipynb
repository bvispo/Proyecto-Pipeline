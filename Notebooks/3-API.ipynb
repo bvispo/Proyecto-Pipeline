{
 "cells": [
  {
   "cell_type": "markdown",
   "id": "89993b2f",
   "metadata": {},
   "source": [
    "# 1. Import libraries"
   ]
  },
  {
   "cell_type": "code",
   "execution_count": 1,
   "id": "9b40cd06",
   "metadata": {},
   "outputs": [],
   "source": [
    "import requests\n",
    "from pandas import json_normalize\n",
    "import numpy as np \n",
    "import pandas as pd\n",
    "\n",
    "# Importing the cleaning functions:\n"
   ]
  },
  {
   "cell_type": "markdown",
   "id": "15314b10",
   "metadata": {},
   "source": [
    "# 2. Import data"
   ]
  },
  {
   "cell_type": "code",
   "execution_count": 2,
   "id": "33759c1e",
   "metadata": {},
   "outputs": [],
   "source": [
    "smart = pd.read_csv(\"../data/clean_smart.csv\",encoding = \"ISO-8859-1\")"
   ]
  },
  {
   "cell_type": "code",
   "execution_count": 3,
   "id": "0fcbb353",
   "metadata": {},
   "outputs": [
    {
     "data": {
      "text/html": [
       "<div>\n",
       "<style scoped>\n",
       "    .dataframe tbody tr th:only-of-type {\n",
       "        vertical-align: middle;\n",
       "    }\n",
       "\n",
       "    .dataframe tbody tr th {\n",
       "        vertical-align: top;\n",
       "    }\n",
       "\n",
       "    .dataframe thead th {\n",
       "        text-align: right;\n",
       "    }\n",
       "</style>\n",
       "<table border=\"1\" class=\"dataframe\">\n",
       "  <thead>\n",
       "    <tr style=\"text-align: right;\">\n",
       "      <th></th>\n",
       "      <th>Unnamed: 0</th>\n",
       "      <th>City</th>\n",
       "      <th>Country</th>\n",
       "      <th>Smart_Mobility</th>\n",
       "      <th>Smart_Environment</th>\n",
       "      <th>Smart_Government</th>\n",
       "      <th>Smart_Economy</th>\n",
       "      <th>Smart_People</th>\n",
       "      <th>Smart_Living</th>\n",
       "      <th>SmartCity_Index</th>\n",
       "    </tr>\n",
       "  </thead>\n",
       "  <tbody>\n",
       "    <tr>\n",
       "      <th>0</th>\n",
       "      <td>0</td>\n",
       "      <td>Oslo</td>\n",
       "      <td>Norway</td>\n",
       "      <td>6480</td>\n",
       "      <td>6512</td>\n",
       "      <td>7516</td>\n",
       "      <td>4565</td>\n",
       "      <td>8618</td>\n",
       "      <td>9090</td>\n",
       "      <td>7138</td>\n",
       "    </tr>\n",
       "    <tr>\n",
       "      <th>1</th>\n",
       "      <td>1</td>\n",
       "      <td>Bergen</td>\n",
       "      <td>Norway</td>\n",
       "      <td>7097</td>\n",
       "      <td>6876</td>\n",
       "      <td>7350</td>\n",
       "      <td>4905</td>\n",
       "      <td>8050</td>\n",
       "      <td>9090</td>\n",
       "      <td>7296</td>\n",
       "    </tr>\n",
       "    <tr>\n",
       "      <th>2</th>\n",
       "      <td>2</td>\n",
       "      <td>Amsterdam</td>\n",
       "      <td>Netherlands</td>\n",
       "      <td>7540</td>\n",
       "      <td>5558</td>\n",
       "      <td>8528</td>\n",
       "      <td>8095</td>\n",
       "      <td>7098</td>\n",
       "      <td>7280</td>\n",
       "      <td>7311</td>\n",
       "    </tr>\n",
       "    <tr>\n",
       "      <th>3</th>\n",
       "      <td>3</td>\n",
       "      <td>Copenhagen</td>\n",
       "      <td>Denmark</td>\n",
       "      <td>7490</td>\n",
       "      <td>7920</td>\n",
       "      <td>8726</td>\n",
       "      <td>5580</td>\n",
       "      <td>5780</td>\n",
       "      <td>7200</td>\n",
       "      <td>7171</td>\n",
       "    </tr>\n",
       "    <tr>\n",
       "      <th>4</th>\n",
       "      <td>4</td>\n",
       "      <td>Stockholm</td>\n",
       "      <td>Sweden</td>\n",
       "      <td>6122</td>\n",
       "      <td>7692</td>\n",
       "      <td>8354</td>\n",
       "      <td>4330</td>\n",
       "      <td>6743</td>\n",
       "      <td>7730</td>\n",
       "      <td>6812</td>\n",
       "    </tr>\n",
       "    <tr>\n",
       "      <th>...</th>\n",
       "      <td>...</td>\n",
       "      <td>...</td>\n",
       "      <td>...</td>\n",
       "      <td>...</td>\n",
       "      <td>...</td>\n",
       "      <td>...</td>\n",
       "      <td>...</td>\n",
       "      <td>...</td>\n",
       "      <td>...</td>\n",
       "      <td>...</td>\n",
       "    </tr>\n",
       "    <tr>\n",
       "      <th>97</th>\n",
       "      <td>97</td>\n",
       "      <td>Riga</td>\n",
       "      <td>Latvia</td>\n",
       "      <td>4152</td>\n",
       "      <td>4584</td>\n",
       "      <td>4616</td>\n",
       "      <td>7380</td>\n",
       "      <td>3745</td>\n",
       "      <td>4330</td>\n",
       "      <td>4712</td>\n",
       "    </tr>\n",
       "    <tr>\n",
       "      <th>98</th>\n",
       "      <td>98</td>\n",
       "      <td>Beijing</td>\n",
       "      <td>China</td>\n",
       "      <td>7610</td>\n",
       "      <td>2998</td>\n",
       "      <td>2806</td>\n",
       "      <td>4905</td>\n",
       "      <td>5183</td>\n",
       "      <td>1980</td>\n",
       "      <td>4449</td>\n",
       "    </tr>\n",
       "    <tr>\n",
       "      <th>99</th>\n",
       "      <td>99</td>\n",
       "      <td>St Petersburg</td>\n",
       "      <td>Russia</td>\n",
       "      <td>4588</td>\n",
       "      <td>2908</td>\n",
       "      <td>3622</td>\n",
       "      <td>4515</td>\n",
       "      <td>5390</td>\n",
       "      <td>4100</td>\n",
       "      <td>4191</td>\n",
       "    </tr>\n",
       "    <tr>\n",
       "      <th>100</th>\n",
       "      <td>100</td>\n",
       "      <td>Calgary</td>\n",
       "      <td>Canada</td>\n",
       "      <td>6675</td>\n",
       "      <td>4052</td>\n",
       "      <td>5946</td>\n",
       "      <td>8022</td>\n",
       "      <td>6424</td>\n",
       "      <td>8657</td>\n",
       "      <td>6678</td>\n",
       "    </tr>\n",
       "    <tr>\n",
       "      <th>101</th>\n",
       "      <td>101</td>\n",
       "      <td>Edmonton</td>\n",
       "      <td>Canada</td>\n",
       "      <td>5801</td>\n",
       "      <td>4499</td>\n",
       "      <td>6396</td>\n",
       "      <td>8022</td>\n",
       "      <td>6200</td>\n",
       "      <td>8141</td>\n",
       "      <td>6472</td>\n",
       "    </tr>\n",
       "  </tbody>\n",
       "</table>\n",
       "<p>102 rows × 10 columns</p>\n",
       "</div>"
      ],
      "text/plain": [
       "     Unnamed: 0           City      Country  Smart_Mobility  \\\n",
       "0             0           Oslo       Norway            6480   \n",
       "1             1         Bergen       Norway            7097   \n",
       "2             2      Amsterdam  Netherlands            7540   \n",
       "3             3     Copenhagen      Denmark            7490   \n",
       "4             4      Stockholm       Sweden            6122   \n",
       "..          ...            ...          ...             ...   \n",
       "97           97           Riga       Latvia            4152   \n",
       "98           98        Beijing        China            7610   \n",
       "99           99  St Petersburg       Russia            4588   \n",
       "100         100        Calgary       Canada            6675   \n",
       "101         101       Edmonton       Canada            5801   \n",
       "\n",
       "     Smart_Environment  Smart_Government  Smart_Economy  Smart_People  \\\n",
       "0                 6512              7516           4565          8618   \n",
       "1                 6876              7350           4905          8050   \n",
       "2                 5558              8528           8095          7098   \n",
       "3                 7920              8726           5580          5780   \n",
       "4                 7692              8354           4330          6743   \n",
       "..                 ...               ...            ...           ...   \n",
       "97                4584              4616           7380          3745   \n",
       "98                2998              2806           4905          5183   \n",
       "99                2908              3622           4515          5390   \n",
       "100               4052              5946           8022          6424   \n",
       "101               4499              6396           8022          6200   \n",
       "\n",
       "     Smart_Living  SmartCity_Index  \n",
       "0            9090             7138  \n",
       "1            9090             7296  \n",
       "2            7280             7311  \n",
       "3            7200             7171  \n",
       "4            7730             6812  \n",
       "..            ...              ...  \n",
       "97           4330             4712  \n",
       "98           1980             4449  \n",
       "99           4100             4191  \n",
       "100          8657             6678  \n",
       "101          8141             6472  \n",
       "\n",
       "[102 rows x 10 columns]"
      ]
     },
     "execution_count": 3,
     "metadata": {},
     "output_type": "execute_result"
    }
   ],
   "source": [
    "smart"
   ]
  },
  {
   "cell_type": "code",
   "execution_count": 4,
   "id": "852ad92c",
   "metadata": {},
   "outputs": [
    {
     "data": {
      "text/plain": [
       "array(['Oslo', 'Bergen', 'Amsterdam', 'Copenhagen', 'Stockholm',\n",
       "       'Montreal', 'Vienna', 'Odense', 'Singapore', 'Boston', 'Zurich',\n",
       "       'Trondheim', 'Vasteras', 'Aalborg', 'Ottawa', 'Washington, DC',\n",
       "       'Stavanger', 'Los Angeles', 'Helsinki', 'Vancouver', 'Berlin',\n",
       "       'Toronto', 'New York', 'Chicago', 'Taipei', 'Dusseldorf',\n",
       "       'Reykjavik', 'Lyon', 'Helsingborg', 'Munich', 'Philadelphia',\n",
       "       'Hamburg', 'Geneva', 'Luxembourg', 'Aarhus', 'Turku', 'Espoo',\n",
       "       'Paris', 'Hannover', 'Strasbourg', 'Joensuu', 'Sydney',\n",
       "       'Frankfurt am Main', 'San Francisco', 'Oulu', 'Cologne', 'Bochum',\n",
       "       'Stuttgart', 'Hameenlinna', 'London', 'Tampere', 'Adelaide',\n",
       "       'Melbourne', 'Tokyo', 'Jyvaskyla', 'Perth', 'Vantaa', 'Auckland',\n",
       "       'Osaka', 'Bordeaux', 'Milan', 'Madrid', 'Daejeon', 'Nantes',\n",
       "       'Brussels', 'Marseille', 'Leeds', 'Lahti', 'Dublin', 'Abu Dhabi',\n",
       "       'Verona', 'Seoul', 'Nice', 'Tallinn', 'Dubai', 'Catania',\n",
       "       'Bayreuth', 'Turin', 'Florence', 'Birmingham', 'Budapest', 'Bari',\n",
       "       'Bratislava', 'Ljubljana', 'Perugia', 'Tel Aviv', 'Hong Kong',\n",
       "       'Barcelona', 'Ancona', 'Lisbon', 'Prague', 'Rome', 'Shanghai',\n",
       "       'Kuala Lampur', 'Genova', 'Naples', 'Moscow', 'Riga', 'Beijing',\n",
       "       'St Petersburg', 'Calgary', 'Edmonton'], dtype=object)"
      ]
     },
     "execution_count": 4,
     "metadata": {},
     "output_type": "execute_result"
    }
   ],
   "source": [
    "smart.City.unique()"
   ]
  },
  {
   "cell_type": "code",
   "execution_count": 5,
   "id": "54ba3a57",
   "metadata": {},
   "outputs": [
    {
     "data": {
      "text/plain": [
       "array(['Norway', 'Netherlands', 'Denmark', 'Sweden', 'Canada', 'Austria',\n",
       "       'Singapore', 'United States Of America', 'Switzerland', 'Finland',\n",
       "       'Germany', 'Taiwan', 'Iceland', 'France', 'Luxembourg',\n",
       "       'Australia', 'United Kingdom', 'Japan', 'New Zealand', 'Italy',\n",
       "       'Spain', 'South Korea', 'Belgium', 'Ireland',\n",
       "       'United Arab Emirates', 'Estonia', 'Hungary', 'Slovakia',\n",
       "       'Slovenia', 'Israel', 'China', 'Portugal', 'Czech Republic',\n",
       "       'Malaysia', 'Russia', 'Latvia'], dtype=object)"
      ]
     },
     "execution_count": 5,
     "metadata": {},
     "output_type": "execute_result"
    }
   ],
   "source": [
    "smart.Country.unique()"
   ]
  },
  {
   "cell_type": "markdown",
   "id": "8d9a4f26",
   "metadata": {},
   "source": [
    "# 3. Request data from APIS"
   ]
  },
  {
   "cell_type": "markdown",
   "id": "e33816f5",
   "metadata": {},
   "source": [
    "## 3.1 API COUNTRY - CONTINENTS"
   ]
  },
  {
   "cell_type": "code",
   "execution_count": 6,
   "id": "5b0a3af1",
   "metadata": {},
   "outputs": [],
   "source": [
    "import requests\n",
    "\n",
    "url = \"https://referential.p.rapidapi.com/v1/country\"\n",
    "\n",
    "querystring = {\"fields\":\"currency,currency_num_code,currency_code,continent_code,currency,iso_a3,dial_code\"}\n",
    "\n",
    "headers = {\n",
    "    'x-rapidapi-host': \"referential.p.rapidapi.com\",\n",
    "    'x-rapidapi-key': \"33e030ac4cmshbfb8d0e76a97e42p1fe169jsn3da51bbbf4d4\"\n",
    "    }\n",
    "\n",
    "response = requests.request(\"GET\", url, headers=headers, params=querystring)\n",
    "\n",
    "#print(response.text)"
   ]
  },
  {
   "cell_type": "code",
   "execution_count": 7,
   "id": "ede21e6e",
   "metadata": {},
   "outputs": [],
   "source": [
    "df = json_normalize(response.json())"
   ]
  },
  {
   "cell_type": "code",
   "execution_count": 8,
   "id": "61edca3c",
   "metadata": {},
   "outputs": [],
   "source": [
    "# Drop unnecessary columns\n",
    "df.drop(columns=[\n",
    "    'iso_a3','currency','currency_code','key', 'currency_num_code'],inplace=True)"
   ]
  },
  {
   "cell_type": "code",
   "execution_count": 9,
   "id": "69484da0",
   "metadata": {},
   "outputs": [
    {
     "data": {
      "text/html": [
       "<div>\n",
       "<style scoped>\n",
       "    .dataframe tbody tr th:only-of-type {\n",
       "        vertical-align: middle;\n",
       "    }\n",
       "\n",
       "    .dataframe tbody tr th {\n",
       "        vertical-align: top;\n",
       "    }\n",
       "\n",
       "    .dataframe thead th {\n",
       "        text-align: right;\n",
       "    }\n",
       "</style>\n",
       "<table border=\"1\" class=\"dataframe\">\n",
       "  <thead>\n",
       "    <tr style=\"text-align: right;\">\n",
       "      <th></th>\n",
       "      <th>continent_code</th>\n",
       "      <th>value</th>\n",
       "    </tr>\n",
       "  </thead>\n",
       "  <tbody>\n",
       "    <tr>\n",
       "      <th>148</th>\n",
       "      <td>EU</td>\n",
       "      <td>Romania</td>\n",
       "    </tr>\n",
       "  </tbody>\n",
       "</table>\n",
       "</div>"
      ],
      "text/plain": [
       "    continent_code    value\n",
       "148             EU  Romania"
      ]
     },
     "execution_count": 9,
     "metadata": {},
     "output_type": "execute_result"
    }
   ],
   "source": [
    "df.sample()"
   ]
  },
  {
   "cell_type": "code",
   "execution_count": 10,
   "id": "df16c5ff",
   "metadata": {},
   "outputs": [
    {
     "data": {
      "text/plain": [
       "array(['AS', 'EU', 'AF', 'NA', 'SA', 'OC'], dtype=object)"
      ]
     },
     "execution_count": 10,
     "metadata": {},
     "output_type": "execute_result"
    }
   ],
   "source": [
    "df[\"continent_code\"].unique()"
   ]
  },
  {
   "cell_type": "code",
   "execution_count": 11,
   "id": "e77b50cc",
   "metadata": {},
   "outputs": [
    {
     "data": {
      "text/plain": [
       "array(['Afghanistan', 'Albania', 'Algeria', 'Andorra', 'Angola',\n",
       "       'Antigua And Barbuda', 'Argentina', 'Armenia', 'Aruba',\n",
       "       'Australia', 'Austria', 'Azerbaijan', 'Bahrain', 'Bangladesh',\n",
       "       'Barbados', 'Belarus', 'Belgium', 'Belize', 'Benin', 'Bhutan',\n",
       "       'Bolivia', 'Bosnia And Herzegovina', 'Botswana', 'Brazil',\n",
       "       'Brunei', 'Bulgaria', 'Burkina Faso', 'Burundi', 'Cambodia',\n",
       "       'Cameroon', 'Canada', 'Cape Verde', 'Central African Republic',\n",
       "       'Chad', 'Chile', 'Colombia', 'Comoros', 'Costa Rica', 'Croatia',\n",
       "       'Cuba', 'Curaçao', 'Turkish Republic Of Northern Cyprus',\n",
       "       'Czech Republic', 'Democratic Republic Of The Congo', 'Denmark',\n",
       "       'Djibouti', 'Dominica', 'Dominican Republic', 'East Timor',\n",
       "       'Ecuador', 'Egypt', 'El Salvador', 'Equatorial Guinea', 'Eritrea',\n",
       "       'Estonia', 'Eswatini', 'Ethiopia',\n",
       "       'Federated States Of Micronesia', 'Fiji', 'Finland', 'France',\n",
       "       'Gabon', 'Georgia', 'Germany', 'Ghana', 'Greece', 'Greenland',\n",
       "       'Grenada', 'Guatemala', 'Guernsey', 'Guinea', 'Guinea-Bissau',\n",
       "       'Guyana', 'Haiti', 'Honduras', 'Hong Kong', 'Hungary', 'Iceland',\n",
       "       'India', 'Indonesia', 'Iran', 'Iraq', 'Ireland', 'Isle Of Man',\n",
       "       'Israel', 'Italy', 'Ivory Coast', 'Jamaica', 'Japan', 'Jersey',\n",
       "       'Jordan', 'Kazakhstan', 'Kenya', 'Kiribati', 'Kosovo', 'Kuwait',\n",
       "       'Kyrgyzstan', 'Laos', 'Latvia', 'Lebanon', 'Lesotho', 'Liberia',\n",
       "       'Libya', 'Liechtenstein', 'Lithuania', 'Luxembourg', 'Macau',\n",
       "       'Madagascar', 'Malawi', 'Malaysia', 'Maldives', 'Mali', 'Malta',\n",
       "       'Marshall Islands', 'Mauritania', 'Mauritius', 'Mexico', 'Moldova',\n",
       "       'Monaco', 'Mongolia', 'Montenegro', 'Morocco', 'Mozambique',\n",
       "       'Myanmar', 'Namibia', 'Nauru', 'Nepal', 'Netherlands',\n",
       "       'New Zealand', 'Nicaragua', 'Niger', 'Nigeria', 'North Korea',\n",
       "       'Norway', 'Oman', 'Pakistan', 'Palau', 'Panama',\n",
       "       'Papua New Guinea', 'Paraguay', \"People's Republic Of China\",\n",
       "       'Peru', 'Philippines', 'Poland', 'Portugal', 'Qatar',\n",
       "       'Republic Of Macedonia', 'Republic Of The Congo', 'Romania',\n",
       "       'Russia', 'Rwanda', 'Saint Kitts And Nevis', 'Saint Lucia',\n",
       "       'Saint Vincent And The Grenadines', 'Samoa', 'San Marino',\n",
       "       'Saudi Arabia', 'Senegal', 'Serbia', 'Seychelles', 'Sierra Leone',\n",
       "       'Singapore', 'Sint Maarten', 'Slovakia', 'Slovenia',\n",
       "       'Solomon Islands', 'Somalia', 'South Africa', 'South Korea',\n",
       "       'South Sudan', 'Spain', 'Sri Lanka', 'Sudan', 'Suriname', 'Sweden',\n",
       "       'Switzerland', 'Syria', 'São Tomé And Príncipe', 'Taiwan',\n",
       "       'Tajikistan', 'Tanzania', 'Thailand', 'The Bahamas', 'The Gambia',\n",
       "       'Togo', 'Tonga', 'Trinidad And Tobago', 'Tunisia', 'Turkey',\n",
       "       'Turkmenistan', 'Tuvalu', 'Uganda', 'Ukraine',\n",
       "       'United Arab Emirates', 'United Kingdom',\n",
       "       'United States Of America', 'Uruguay', 'Uzbekistan', 'Vanuatu',\n",
       "       'Vatican City', 'Venezuela', 'Vietnam', 'Yemen', 'Zambia',\n",
       "       'Zimbabwe', 'Åland Islands'], dtype=object)"
      ]
     },
     "execution_count": 11,
     "metadata": {},
     "output_type": "execute_result"
    }
   ],
   "source": [
    "df.value.unique()"
   ]
  },
  {
   "cell_type": "code",
   "execution_count": null,
   "id": "87b2de23",
   "metadata": {},
   "outputs": [],
   "source": [
    "#df_smart = smart.merge(df,left_on=\"Country\", right_on=\"value\", suffixes=[\"_izq\", \"_dcha\"])\n"
   ]
  },
  {
   "cell_type": "code",
   "execution_count": 12,
   "id": "0ea497b4",
   "metadata": {},
   "outputs": [],
   "source": [
    "df_smart = df.merge(smart,left_on=\"value\", right_on=\"Country\", suffixes=[\"_izq\", \"_dcha\"])\n",
    "#df_smart.sample()"
   ]
  },
  {
   "cell_type": "code",
   "execution_count": 13,
   "id": "d796fccd",
   "metadata": {},
   "outputs": [
    {
     "data": {
      "text/html": [
       "<div>\n",
       "<style scoped>\n",
       "    .dataframe tbody tr th:only-of-type {\n",
       "        vertical-align: middle;\n",
       "    }\n",
       "\n",
       "    .dataframe tbody tr th {\n",
       "        vertical-align: top;\n",
       "    }\n",
       "\n",
       "    .dataframe thead th {\n",
       "        text-align: right;\n",
       "    }\n",
       "</style>\n",
       "<table border=\"1\" class=\"dataframe\">\n",
       "  <thead>\n",
       "    <tr style=\"text-align: right;\">\n",
       "      <th></th>\n",
       "      <th>continent_code</th>\n",
       "      <th>value</th>\n",
       "      <th>Unnamed: 0</th>\n",
       "      <th>City</th>\n",
       "      <th>Country</th>\n",
       "      <th>Smart_Mobility</th>\n",
       "      <th>Smart_Environment</th>\n",
       "      <th>Smart_Government</th>\n",
       "      <th>Smart_Economy</th>\n",
       "      <th>Smart_People</th>\n",
       "      <th>Smart_Living</th>\n",
       "      <th>SmartCity_Index</th>\n",
       "    </tr>\n",
       "  </thead>\n",
       "  <tbody>\n",
       "    <tr>\n",
       "      <th>0</th>\n",
       "      <td>OC</td>\n",
       "      <td>Australia</td>\n",
       "      <td>41</td>\n",
       "      <td>Sydney</td>\n",
       "      <td>Australia</td>\n",
       "      <td>6263</td>\n",
       "      <td>3890</td>\n",
       "      <td>5932</td>\n",
       "      <td>5075</td>\n",
       "      <td>7305</td>\n",
       "      <td>9620</td>\n",
       "      <td>6442</td>\n",
       "    </tr>\n",
       "    <tr>\n",
       "      <th>1</th>\n",
       "      <td>OC</td>\n",
       "      <td>Australia</td>\n",
       "      <td>51</td>\n",
       "      <td>Adelaide</td>\n",
       "      <td>Australia</td>\n",
       "      <td>6313</td>\n",
       "      <td>4148</td>\n",
       "      <td>5792</td>\n",
       "      <td>3410</td>\n",
       "      <td>4678</td>\n",
       "      <td>9620</td>\n",
       "      <td>5892</td>\n",
       "    </tr>\n",
       "    <tr>\n",
       "      <th>2</th>\n",
       "      <td>OC</td>\n",
       "      <td>Australia</td>\n",
       "      <td>52</td>\n",
       "      <td>Melbourne</td>\n",
       "      <td>Australia</td>\n",
       "      <td>7230</td>\n",
       "      <td>3906</td>\n",
       "      <td>5848</td>\n",
       "      <td>2780</td>\n",
       "      <td>5188</td>\n",
       "      <td>9620</td>\n",
       "      <td>6061</td>\n",
       "    </tr>\n",
       "    <tr>\n",
       "      <th>3</th>\n",
       "      <td>OC</td>\n",
       "      <td>Australia</td>\n",
       "      <td>55</td>\n",
       "      <td>Perth</td>\n",
       "      <td>Australia</td>\n",
       "      <td>6677</td>\n",
       "      <td>4026</td>\n",
       "      <td>5134</td>\n",
       "      <td>3370</td>\n",
       "      <td>4810</td>\n",
       "      <td>9620</td>\n",
       "      <td>5885</td>\n",
       "    </tr>\n",
       "    <tr>\n",
       "      <th>4</th>\n",
       "      <td>EU</td>\n",
       "      <td>Austria</td>\n",
       "      <td>6</td>\n",
       "      <td>Vienna</td>\n",
       "      <td>Austria</td>\n",
       "      <td>5683</td>\n",
       "      <td>7608</td>\n",
       "      <td>6232</td>\n",
       "      <td>5415</td>\n",
       "      <td>8580</td>\n",
       "      <td>7500</td>\n",
       "      <td>6771</td>\n",
       "    </tr>\n",
       "    <tr>\n",
       "      <th>...</th>\n",
       "      <td>...</td>\n",
       "      <td>...</td>\n",
       "      <td>...</td>\n",
       "      <td>...</td>\n",
       "      <td>...</td>\n",
       "      <td>...</td>\n",
       "      <td>...</td>\n",
       "      <td>...</td>\n",
       "      <td>...</td>\n",
       "      <td>...</td>\n",
       "      <td>...</td>\n",
       "      <td>...</td>\n",
       "    </tr>\n",
       "    <tr>\n",
       "      <th>94</th>\n",
       "      <td>NA</td>\n",
       "      <td>United States Of America</td>\n",
       "      <td>17</td>\n",
       "      <td>Los Angeles</td>\n",
       "      <td>United States Of America</td>\n",
       "      <td>7745</td>\n",
       "      <td>4574</td>\n",
       "      <td>4750</td>\n",
       "      <td>7235</td>\n",
       "      <td>7498</td>\n",
       "      <td>6220</td>\n",
       "      <td>6437</td>\n",
       "    </tr>\n",
       "    <tr>\n",
       "      <th>95</th>\n",
       "      <td>NA</td>\n",
       "      <td>United States Of America</td>\n",
       "      <td>22</td>\n",
       "      <td>New York</td>\n",
       "      <td>United States Of America</td>\n",
       "      <td>7607</td>\n",
       "      <td>4468</td>\n",
       "      <td>6038</td>\n",
       "      <td>6520</td>\n",
       "      <td>6610</td>\n",
       "      <td>6220</td>\n",
       "      <td>6336</td>\n",
       "    </tr>\n",
       "    <tr>\n",
       "      <th>96</th>\n",
       "      <td>NA</td>\n",
       "      <td>United States Of America</td>\n",
       "      <td>23</td>\n",
       "      <td>Chicago</td>\n",
       "      <td>United States Of America</td>\n",
       "      <td>8110</td>\n",
       "      <td>4680</td>\n",
       "      <td>5170</td>\n",
       "      <td>7265</td>\n",
       "      <td>7123</td>\n",
       "      <td>6220</td>\n",
       "      <td>6551</td>\n",
       "    </tr>\n",
       "    <tr>\n",
       "      <th>97</th>\n",
       "      <td>NA</td>\n",
       "      <td>United States Of America</td>\n",
       "      <td>30</td>\n",
       "      <td>Philadelphia</td>\n",
       "      <td>United States Of America</td>\n",
       "      <td>7478</td>\n",
       "      <td>4800</td>\n",
       "      <td>5356</td>\n",
       "      <td>7060</td>\n",
       "      <td>6930</td>\n",
       "      <td>6220</td>\n",
       "      <td>6389</td>\n",
       "    </tr>\n",
       "    <tr>\n",
       "      <th>98</th>\n",
       "      <td>NA</td>\n",
       "      <td>United States Of America</td>\n",
       "      <td>43</td>\n",
       "      <td>San Francisco</td>\n",
       "      <td>United States Of America</td>\n",
       "      <td>7217</td>\n",
       "      <td>5148</td>\n",
       "      <td>4746</td>\n",
       "      <td>8565</td>\n",
       "      <td>5495</td>\n",
       "      <td>6220</td>\n",
       "      <td>6319</td>\n",
       "    </tr>\n",
       "  </tbody>\n",
       "</table>\n",
       "<p>99 rows × 12 columns</p>\n",
       "</div>"
      ],
      "text/plain": [
       "   continent_code                     value  Unnamed: 0           City  \\\n",
       "0              OC                 Australia          41         Sydney   \n",
       "1              OC                 Australia          51       Adelaide   \n",
       "2              OC                 Australia          52      Melbourne   \n",
       "3              OC                 Australia          55          Perth   \n",
       "4              EU                   Austria           6         Vienna   \n",
       "..            ...                       ...         ...            ...   \n",
       "94             NA  United States Of America          17    Los Angeles   \n",
       "95             NA  United States Of America          22       New York   \n",
       "96             NA  United States Of America          23        Chicago   \n",
       "97             NA  United States Of America          30   Philadelphia   \n",
       "98             NA  United States Of America          43  San Francisco   \n",
       "\n",
       "                     Country  Smart_Mobility  Smart_Environment  \\\n",
       "0                  Australia            6263               3890   \n",
       "1                  Australia            6313               4148   \n",
       "2                  Australia            7230               3906   \n",
       "3                  Australia            6677               4026   \n",
       "4                    Austria            5683               7608   \n",
       "..                       ...             ...                ...   \n",
       "94  United States Of America            7745               4574   \n",
       "95  United States Of America            7607               4468   \n",
       "96  United States Of America            8110               4680   \n",
       "97  United States Of America            7478               4800   \n",
       "98  United States Of America            7217               5148   \n",
       "\n",
       "    Smart_Government  Smart_Economy  Smart_People  Smart_Living  \\\n",
       "0               5932           5075          7305          9620   \n",
       "1               5792           3410          4678          9620   \n",
       "2               5848           2780          5188          9620   \n",
       "3               5134           3370          4810          9620   \n",
       "4               6232           5415          8580          7500   \n",
       "..               ...            ...           ...           ...   \n",
       "94              4750           7235          7498          6220   \n",
       "95              6038           6520          6610          6220   \n",
       "96              5170           7265          7123          6220   \n",
       "97              5356           7060          6930          6220   \n",
       "98              4746           8565          5495          6220   \n",
       "\n",
       "    SmartCity_Index  \n",
       "0              6442  \n",
       "1              5892  \n",
       "2              6061  \n",
       "3              5885  \n",
       "4              6771  \n",
       "..              ...  \n",
       "94             6437  \n",
       "95             6336  \n",
       "96             6551  \n",
       "97             6389  \n",
       "98             6319  \n",
       "\n",
       "[99 rows x 12 columns]"
      ]
     },
     "execution_count": 13,
     "metadata": {},
     "output_type": "execute_result"
    }
   ],
   "source": [
    "df_smart"
   ]
  },
  {
   "cell_type": "code",
   "execution_count": 14,
   "id": "f94335b0",
   "metadata": {},
   "outputs": [
    {
     "data": {
      "text/plain": [
       "array(['OC', 'EU', 'NA', 'AS'], dtype=object)"
      ]
     },
     "execution_count": 14,
     "metadata": {},
     "output_type": "execute_result"
    }
   ],
   "source": [
    "df_smart[\"continent_code\"].unique()"
   ]
  },
  {
   "cell_type": "code",
   "execution_count": 15,
   "id": "7c79f09b",
   "metadata": {},
   "outputs": [],
   "source": [
    "df_smart.drop(columns=['value'], inplace = True)"
   ]
  },
  {
   "cell_type": "code",
   "execution_count": 16,
   "id": "08422851",
   "metadata": {},
   "outputs": [],
   "source": [
    "continent_code_rename = {\"continent_code\": \"Continent\"}\n",
    "df_smart.rename(columns=continent_code_rename, inplace=True)"
   ]
  },
  {
   "cell_type": "code",
   "execution_count": 17,
   "id": "a75b203c",
   "metadata": {},
   "outputs": [
    {
     "data": {
      "text/plain": [
       "(99, 11)"
      ]
     },
     "execution_count": 17,
     "metadata": {},
     "output_type": "execute_result"
    }
   ],
   "source": [
    "df_smart.shape"
   ]
  },
  {
   "cell_type": "code",
   "execution_count": 18,
   "id": "2d2926a0",
   "metadata": {},
   "outputs": [
    {
     "data": {
      "text/plain": [
       "Continent            0\n",
       "Unnamed: 0           0\n",
       "City                 0\n",
       "Country              0\n",
       "Smart_Mobility       0\n",
       "Smart_Environment    0\n",
       "Smart_Government     0\n",
       "Smart_Economy        0\n",
       "Smart_People         0\n",
       "Smart_Living         0\n",
       "SmartCity_Index      0\n",
       "dtype: int64"
      ]
     },
     "execution_count": 18,
     "metadata": {},
     "output_type": "execute_result"
    }
   ],
   "source": [
    "df_smart.isnull().sum()"
   ]
  },
  {
   "cell_type": "code",
   "execution_count": 19,
   "id": "f64d7a41",
   "metadata": {},
   "outputs": [],
   "source": [
    "df_smart.to_csv(\"../data/continent_smart.csv\")"
   ]
  },
  {
   "cell_type": "markdown",
   "id": "dcfb2822",
   "metadata": {},
   "source": [
    "## 3.1 API LIFE QUALITY"
   ]
  },
  {
   "cell_type": "code",
   "execution_count": null,
   "id": "28f23395",
   "metadata": {},
   "outputs": [],
   "source": [
    "smart.City.unique()"
   ]
  },
  {
   "cell_type": "code",
   "execution_count": null,
   "id": "03448289",
   "metadata": {},
   "outputs": [],
   "source": [
    "# as the API only recives certain names in lowercase, I´m going to change the city names\n",
    "# into lowercase"
   ]
  },
  {
   "cell_type": "code",
   "execution_count": null,
   "id": "a1b09969",
   "metadata": {},
   "outputs": [],
   "source": [
    "#cities_lower = map(lambda city:city.lower(),smart.City)\n",
    "print(list(cities_lower))"
   ]
  },
  {
   "cell_type": "code",
   "execution_count": null,
   "id": "3232bea0",
   "metadata": {},
   "outputs": [],
   "source": [
    "df_smart[\"City\"] = df_smart[\"City\"].apply(cf.lowercase)"
   ]
  },
  {
   "cell_type": "code",
   "execution_count": null,
   "id": "067be1d7",
   "metadata": {},
   "outputs": [],
   "source": [
    "\"\"\"dict_rename = {\n",
    "    \"dÃ\\x83Â¼sseldorf\" : \"dusseldorf\",\n",
    "    \"vã\\x83â¤sterã\\x83â¥s\" : \"vasteras\", V%C3%A4ster%C3%A5s\n",
    "    \"hã\\x83â¤meenlinna\" : \"hameenlinna\",\n",
    "    \"jyvã\\x83â¤skylã\\x83â¤\" : \"jyväskylä\"\n",
    "}\n",
    "df_smart.rename(df_smart[\"City\"] == dict_rename, inplace=True)\n",
    "df_smart.head()\n",
    "\"\"\""
   ]
  },
  {
   "cell_type": "code",
   "execution_count": null,
   "id": "77da26ad",
   "metadata": {},
   "outputs": [],
   "source": [
    "df_smart.City.unique()"
   ]
  },
  {
   "cell_type": "code",
   "execution_count": null,
   "id": "92d625b6",
   "metadata": {},
   "outputs": [],
   "source": [
    "cities = list(smart.City.unique())"
   ]
  },
  {
   "cell_type": "code",
   "execution_count": null,
   "id": "663d774e",
   "metadata": {},
   "outputs": [],
   "source": [
    "scores =[]\n",
    "for city in cities:\n",
    "    response = requests.get(f\"https://api.teleport.org/api/urban_areas/slug:{city}/scores/\").json().[\"teleport_city_score\"]\n",
    "    scores.append(response)"
   ]
  },
  {
   "cell_type": "markdown",
   "id": "4beecce6",
   "metadata": {},
   "source": [
    "##### EJEMPLO OSLO"
   ]
  },
  {
   "cell_type": "code",
   "execution_count": 20,
   "id": "2929523e",
   "metadata": {},
   "outputs": [],
   "source": [
    "oslo = \"https://api.teleport.org/api/urban_areas/slug:oslo/scores/\""
   ]
  },
  {
   "cell_type": "code",
   "execution_count": 21,
   "id": "465216f0",
   "metadata": {},
   "outputs": [],
   "source": [
    "response_oslo = requests.get(oslo).json()"
   ]
  },
  {
   "cell_type": "code",
   "execution_count": 22,
   "id": "5cf832d0",
   "metadata": {},
   "outputs": [
    {
     "data": {
      "text/plain": [
       "{'_links': {'curies': [{'href': 'https://developers.teleport.org/api/resources/Location/#!/relations/{rel}/',\n",
       "    'name': 'location',\n",
       "    'templated': True},\n",
       "   {'href': 'https://developers.teleport.org/api/resources/City/#!/relations/{rel}/',\n",
       "    'name': 'city',\n",
       "    'templated': True},\n",
       "   {'href': 'https://developers.teleport.org/api/resources/UrbanArea/#!/relations/{rel}/',\n",
       "    'name': 'ua',\n",
       "    'templated': True},\n",
       "   {'href': 'https://developers.teleport.org/api/resources/Country/#!/relations/{rel}/',\n",
       "    'name': 'country',\n",
       "    'templated': True},\n",
       "   {'href': 'https://developers.teleport.org/api/resources/Admin1Division/#!/relations/{rel}/',\n",
       "    'name': 'a1',\n",
       "    'templated': True},\n",
       "   {'href': 'https://developers.teleport.org/api/resources/Timezone/#!/relations/{rel}/',\n",
       "    'name': 'tz',\n",
       "    'templated': True}],\n",
       "  'self': {'href': 'https://api.teleport.org/api/urban_areas/slug:oslo/scores/'}},\n",
       " 'categories': [{'color': '#f3c32c',\n",
       "   'name': 'Housing',\n",
       "   'score_out_of_10': 3.768},\n",
       "  {'color': '#f3d630',\n",
       "   'name': 'Cost of Living',\n",
       "   'score_out_of_10': 1.0380000000000003},\n",
       "  {'color': '#f4eb33',\n",
       "   'name': 'Startups',\n",
       "   'score_out_of_10': 5.2090000000000005},\n",
       "  {'color': '#d2ed31', 'name': 'Venture Capital', 'score_out_of_10': 3.869},\n",
       "  {'color': '#7adc29',\n",
       "   'name': 'Travel Connectivity',\n",
       "   'score_out_of_10': 5.177},\n",
       "  {'color': '#36cc24',\n",
       "   'name': 'Commute',\n",
       "   'score_out_of_10': 5.775250000000001},\n",
       "  {'color': '#19ad51',\n",
       "   'name': 'Business Freedom',\n",
       "   'score_out_of_10': 9.635333333333332},\n",
       "  {'color': '#0d6999',\n",
       "   'name': 'Safety',\n",
       "   'score_out_of_10': 7.1065000000000005},\n",
       "  {'color': '#051fa5',\n",
       "   'name': 'Healthcare',\n",
       "   'score_out_of_10': 9.106666666666666},\n",
       "  {'color': '#150e78',\n",
       "   'name': 'Education',\n",
       "   'score_out_of_10': 5.144500000000001},\n",
       "  {'color': '#3d14a4',\n",
       "   'name': 'Environmental Quality',\n",
       "   'score_out_of_10': 8.42425},\n",
       "  {'color': '#5c14a1', 'name': 'Economy', 'score_out_of_10': 7.0735},\n",
       "  {'color': '#88149f', 'name': 'Taxation', 'score_out_of_10': 4.752},\n",
       "  {'color': '#b9117d', 'name': 'Internet Access', 'score_out_of_10': 7.9705},\n",
       "  {'color': '#d10d54', 'name': 'Leisure & Culture', 'score_out_of_10': 5.899},\n",
       "  {'color': '#e70c26',\n",
       "   'name': 'Tolerance',\n",
       "   'score_out_of_10': 7.029999999999999},\n",
       "  {'color': '#f1351b', 'name': 'Outdoors', 'score_out_of_10': 6.1895}],\n",
       " 'summary': '<p>Oslo, Norway, is among the top cities with a <b>free business environment</b>.\\n\\n    \\n        According to our city rankings, this is a good place to live with high ratings in <b>safety</b>, <b>healthcare</b> and <b>environmental quality</b>.\\n    \\n\\n    \\n</p>\\n\\n\\n    <p>Oslo is one of the top ten city matches for 0.9% of Teleport users.</p>\\n',\n",
       " 'teleport_city_score': 64.31459459459458}"
      ]
     },
     "execution_count": 22,
     "metadata": {},
     "output_type": "execute_result"
    }
   ],
   "source": [
    "response_oslo"
   ]
  },
  {
   "cell_type": "code",
   "execution_count": 23,
   "id": "6d6ecf34",
   "metadata": {},
   "outputs": [
    {
     "data": {
      "text/html": [
       "<div>\n",
       "<style scoped>\n",
       "    .dataframe tbody tr th:only-of-type {\n",
       "        vertical-align: middle;\n",
       "    }\n",
       "\n",
       "    .dataframe tbody tr th {\n",
       "        vertical-align: top;\n",
       "    }\n",
       "\n",
       "    .dataframe thead th {\n",
       "        text-align: right;\n",
       "    }\n",
       "</style>\n",
       "<table border=\"1\" class=\"dataframe\">\n",
       "  <thead>\n",
       "    <tr style=\"text-align: right;\">\n",
       "      <th></th>\n",
       "      <th>categories</th>\n",
       "      <th>summary</th>\n",
       "      <th>teleport_city_score</th>\n",
       "      <th>_links.curies</th>\n",
       "      <th>_links.self.href</th>\n",
       "    </tr>\n",
       "  </thead>\n",
       "  <tbody>\n",
       "    <tr>\n",
       "      <th>0</th>\n",
       "      <td>[{'color': '#f3c32c', 'name': 'Housing', 'scor...</td>\n",
       "      <td>&lt;p&gt;Oslo, Norway, is among the top cities with ...</td>\n",
       "      <td>64.314595</td>\n",
       "      <td>[{'href': 'https://developers.teleport.org/api...</td>\n",
       "      <td>https://api.teleport.org/api/urban_areas/slug:...</td>\n",
       "    </tr>\n",
       "  </tbody>\n",
       "</table>\n",
       "</div>"
      ],
      "text/plain": [
       "                                          categories  \\\n",
       "0  [{'color': '#f3c32c', 'name': 'Housing', 'scor...   \n",
       "\n",
       "                                             summary  teleport_city_score  \\\n",
       "0  <p>Oslo, Norway, is among the top cities with ...            64.314595   \n",
       "\n",
       "                                       _links.curies  \\\n",
       "0  [{'href': 'https://developers.teleport.org/api...   \n",
       "\n",
       "                                    _links.self.href  \n",
       "0  https://api.teleport.org/api/urban_areas/slug:...  "
      ]
     },
     "execution_count": 23,
     "metadata": {},
     "output_type": "execute_result"
    }
   ],
   "source": [
    "json_normalize(response_oslo)"
   ]
  },
  {
   "cell_type": "code",
   "execution_count": 24,
   "id": "48973000",
   "metadata": {},
   "outputs": [
    {
     "data": {
      "text/plain": [
       "64.31459459459458"
      ]
     },
     "execution_count": 24,
     "metadata": {},
     "output_type": "execute_result"
    }
   ],
   "source": [
    "response_oslo[\"teleport_city_score\"]"
   ]
  },
  {
   "cell_type": "code",
   "execution_count": 25,
   "id": "ffd2c035",
   "metadata": {},
   "outputs": [
    {
     "data": {
      "text/plain": [
       "'<p>Oslo, Norway, is among the top cities with a <b>free business environment</b>.\\n\\n    \\n        According to our city rankings, this is a good place to live with high ratings in <b>safety</b>, <b>healthcare</b> and <b>environmental quality</b>.\\n    \\n\\n    \\n</p>\\n\\n\\n    <p>Oslo is one of the top ten city matches for 0.9% of Teleport users.</p>\\n'"
      ]
     },
     "execution_count": 25,
     "metadata": {},
     "output_type": "execute_result"
    }
   ],
   "source": [
    "response_oslo[\"summary\"]"
   ]
  },
  {
   "cell_type": "code",
   "execution_count": 26,
   "id": "8a6b44ac",
   "metadata": {},
   "outputs": [
    {
     "data": {
      "text/plain": [
       "'<p>Oslo, Norway, is among the top cities with a <b>free business environment</b>.\\n\\n    \\n        According to our city rankings, this is a good place to live with high ratings in <b>safety</b>, <b>healthcare</b> and <b>environmental quality</b>.\\n    \\n\\n    \\n</p>\\n\\n\\n    <p>Oslo is one of the top ten city matches for 0.9% of Teleport users.</p>'"
      ]
     },
     "execution_count": 26,
     "metadata": {},
     "output_type": "execute_result"
    }
   ],
   "source": [
    "response_oslo[\"summary\"].strip()"
   ]
  }
 ],
 "metadata": {
  "kernelspec": {
   "display_name": "ironhack",
   "language": "python",
   "name": "ironhack"
  },
  "language_info": {
   "codemirror_mode": {
    "name": "ipython",
    "version": 3
   },
   "file_extension": ".py",
   "mimetype": "text/x-python",
   "name": "python",
   "nbconvert_exporter": "python",
   "pygments_lexer": "ipython3",
   "version": "3.8.5"
  }
 },
 "nbformat": 4,
 "nbformat_minor": 5
}
