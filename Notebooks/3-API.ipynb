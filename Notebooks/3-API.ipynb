{
 "cells": [
  {
   "cell_type": "markdown",
   "id": "89993b2f",
   "metadata": {},
   "source": [
    "# 1. Import libraries"
   ]
  },
  {
   "cell_type": "code",
   "execution_count": 1,
   "id": "9b40cd06",
   "metadata": {},
   "outputs": [],
   "source": [
    "import requests\n",
    "from pandas import json_normalize\n",
    "import numpy as np \n",
    "import pandas as pd\n",
    "\n",
    "# Importing the cleaning functions:\n"
   ]
  },
  {
   "cell_type": "markdown",
   "id": "15314b10",
   "metadata": {},
   "source": [
    "# 2. Import data"
   ]
  },
  {
   "cell_type": "code",
   "execution_count": 2,
   "id": "33759c1e",
   "metadata": {},
   "outputs": [],
   "source": [
    "smart = pd.read_csv(\"../data/clean_smart.csv\",encoding = \"utf-8\")"
   ]
  },
  {
   "cell_type": "code",
   "execution_count": 3,
   "id": "0fcbb353",
   "metadata": {},
   "outputs": [
    {
     "data": {
      "text/html": [
       "<div>\n",
       "<style scoped>\n",
       "    .dataframe tbody tr th:only-of-type {\n",
       "        vertical-align: middle;\n",
       "    }\n",
       "\n",
       "    .dataframe tbody tr th {\n",
       "        vertical-align: top;\n",
       "    }\n",
       "\n",
       "    .dataframe thead th {\n",
       "        text-align: right;\n",
       "    }\n",
       "</style>\n",
       "<table border=\"1\" class=\"dataframe\">\n",
       "  <thead>\n",
       "    <tr style=\"text-align: right;\">\n",
       "      <th></th>\n",
       "      <th>Unnamed: 0</th>\n",
       "      <th>City</th>\n",
       "      <th>Country</th>\n",
       "      <th>Smart_Mobility</th>\n",
       "      <th>Smart_Environment</th>\n",
       "      <th>Smart_Government</th>\n",
       "      <th>Smart_Economy</th>\n",
       "      <th>Smart_People</th>\n",
       "      <th>Smart_Living</th>\n",
       "      <th>SmartCity_Index</th>\n",
       "    </tr>\n",
       "  </thead>\n",
       "  <tbody>\n",
       "    <tr>\n",
       "      <th>0</th>\n",
       "      <td>0</td>\n",
       "      <td>Oslo</td>\n",
       "      <td>Norway</td>\n",
       "      <td>6480</td>\n",
       "      <td>6512</td>\n",
       "      <td>7516</td>\n",
       "      <td>4565</td>\n",
       "      <td>8618</td>\n",
       "      <td>9090</td>\n",
       "      <td>7138</td>\n",
       "    </tr>\n",
       "    <tr>\n",
       "      <th>1</th>\n",
       "      <td>1</td>\n",
       "      <td>Bergen</td>\n",
       "      <td>Norway</td>\n",
       "      <td>7097</td>\n",
       "      <td>6876</td>\n",
       "      <td>7350</td>\n",
       "      <td>4905</td>\n",
       "      <td>8050</td>\n",
       "      <td>9090</td>\n",
       "      <td>7296</td>\n",
       "    </tr>\n",
       "    <tr>\n",
       "      <th>2</th>\n",
       "      <td>2</td>\n",
       "      <td>Amsterdam</td>\n",
       "      <td>Netherlands</td>\n",
       "      <td>7540</td>\n",
       "      <td>5558</td>\n",
       "      <td>8528</td>\n",
       "      <td>8095</td>\n",
       "      <td>7098</td>\n",
       "      <td>7280</td>\n",
       "      <td>7311</td>\n",
       "    </tr>\n",
       "    <tr>\n",
       "      <th>3</th>\n",
       "      <td>3</td>\n",
       "      <td>Copenhagen</td>\n",
       "      <td>Denmark</td>\n",
       "      <td>7490</td>\n",
       "      <td>7920</td>\n",
       "      <td>8726</td>\n",
       "      <td>5580</td>\n",
       "      <td>5780</td>\n",
       "      <td>7200</td>\n",
       "      <td>7171</td>\n",
       "    </tr>\n",
       "    <tr>\n",
       "      <th>4</th>\n",
       "      <td>4</td>\n",
       "      <td>Stockholm</td>\n",
       "      <td>Sweden</td>\n",
       "      <td>6122</td>\n",
       "      <td>7692</td>\n",
       "      <td>8354</td>\n",
       "      <td>4330</td>\n",
       "      <td>6743</td>\n",
       "      <td>7730</td>\n",
       "      <td>6812</td>\n",
       "    </tr>\n",
       "    <tr>\n",
       "      <th>...</th>\n",
       "      <td>...</td>\n",
       "      <td>...</td>\n",
       "      <td>...</td>\n",
       "      <td>...</td>\n",
       "      <td>...</td>\n",
       "      <td>...</td>\n",
       "      <td>...</td>\n",
       "      <td>...</td>\n",
       "      <td>...</td>\n",
       "      <td>...</td>\n",
       "    </tr>\n",
       "    <tr>\n",
       "      <th>97</th>\n",
       "      <td>97</td>\n",
       "      <td>Riga</td>\n",
       "      <td>Latvia</td>\n",
       "      <td>4152</td>\n",
       "      <td>4584</td>\n",
       "      <td>4616</td>\n",
       "      <td>7380</td>\n",
       "      <td>3745</td>\n",
       "      <td>4330</td>\n",
       "      <td>4712</td>\n",
       "    </tr>\n",
       "    <tr>\n",
       "      <th>98</th>\n",
       "      <td>98</td>\n",
       "      <td>Beijing</td>\n",
       "      <td>China</td>\n",
       "      <td>7610</td>\n",
       "      <td>2998</td>\n",
       "      <td>2806</td>\n",
       "      <td>4905</td>\n",
       "      <td>5183</td>\n",
       "      <td>1980</td>\n",
       "      <td>4449</td>\n",
       "    </tr>\n",
       "    <tr>\n",
       "      <th>99</th>\n",
       "      <td>99</td>\n",
       "      <td>St Petersburg</td>\n",
       "      <td>Russia</td>\n",
       "      <td>4588</td>\n",
       "      <td>2908</td>\n",
       "      <td>3622</td>\n",
       "      <td>4515</td>\n",
       "      <td>5390</td>\n",
       "      <td>4100</td>\n",
       "      <td>4191</td>\n",
       "    </tr>\n",
       "    <tr>\n",
       "      <th>100</th>\n",
       "      <td>100</td>\n",
       "      <td>Calgary</td>\n",
       "      <td>Canada</td>\n",
       "      <td>6675</td>\n",
       "      <td>4052</td>\n",
       "      <td>5946</td>\n",
       "      <td>8022</td>\n",
       "      <td>6424</td>\n",
       "      <td>8657</td>\n",
       "      <td>6678</td>\n",
       "    </tr>\n",
       "    <tr>\n",
       "      <th>101</th>\n",
       "      <td>101</td>\n",
       "      <td>Edmonton</td>\n",
       "      <td>Canada</td>\n",
       "      <td>5801</td>\n",
       "      <td>4499</td>\n",
       "      <td>6396</td>\n",
       "      <td>8022</td>\n",
       "      <td>6200</td>\n",
       "      <td>8141</td>\n",
       "      <td>6472</td>\n",
       "    </tr>\n",
       "  </tbody>\n",
       "</table>\n",
       "<p>102 rows × 10 columns</p>\n",
       "</div>"
      ],
      "text/plain": [
       "     Unnamed: 0           City      Country  Smart_Mobility  \\\n",
       "0             0           Oslo       Norway            6480   \n",
       "1             1         Bergen       Norway            7097   \n",
       "2             2      Amsterdam  Netherlands            7540   \n",
       "3             3     Copenhagen      Denmark            7490   \n",
       "4             4      Stockholm       Sweden            6122   \n",
       "..          ...            ...          ...             ...   \n",
       "97           97           Riga       Latvia            4152   \n",
       "98           98        Beijing        China            7610   \n",
       "99           99  St Petersburg       Russia            4588   \n",
       "100         100        Calgary       Canada            6675   \n",
       "101         101       Edmonton       Canada            5801   \n",
       "\n",
       "     Smart_Environment  Smart_Government  Smart_Economy  Smart_People  \\\n",
       "0                 6512              7516           4565          8618   \n",
       "1                 6876              7350           4905          8050   \n",
       "2                 5558              8528           8095          7098   \n",
       "3                 7920              8726           5580          5780   \n",
       "4                 7692              8354           4330          6743   \n",
       "..                 ...               ...            ...           ...   \n",
       "97                4584              4616           7380          3745   \n",
       "98                2998              2806           4905          5183   \n",
       "99                2908              3622           4515          5390   \n",
       "100               4052              5946           8022          6424   \n",
       "101               4499              6396           8022          6200   \n",
       "\n",
       "     Smart_Living  SmartCity_Index  \n",
       "0            9090             7138  \n",
       "1            9090             7296  \n",
       "2            7280             7311  \n",
       "3            7200             7171  \n",
       "4            7730             6812  \n",
       "..            ...              ...  \n",
       "97           4330             4712  \n",
       "98           1980             4449  \n",
       "99           4100             4191  \n",
       "100          8657             6678  \n",
       "101          8141             6472  \n",
       "\n",
       "[102 rows x 10 columns]"
      ]
     },
     "execution_count": 3,
     "metadata": {},
     "output_type": "execute_result"
    }
   ],
   "source": [
    "smart"
   ]
  },
  {
   "cell_type": "code",
   "execution_count": 4,
   "id": "adffb466",
   "metadata": {},
   "outputs": [
    {
     "data": {
      "text/plain": [
       "array(['Oslo', 'Bergen', 'Amsterdam', 'Copenhagen', 'Stockholm',\n",
       "       'Montreal', 'Vienna', 'Odense', 'Singapore', 'Boston', 'Zurich',\n",
       "       'Trondheim', 'Vasteras', 'Aalborg', 'Ottawa', 'Washington, DC',\n",
       "       'Stavanger', 'Los Angeles', 'Helsinki', 'Vancouver', 'Berlin',\n",
       "       'Toronto', 'New York', 'Chicago', 'Taipei', 'Dusseldorf',\n",
       "       'Reykjavik', 'Lyon', 'Helsingborg', 'Munich', 'Philadelphia',\n",
       "       'Hamburg', 'Geneva', 'Luxembourg', 'Aarhus', 'Turku', 'Espoo',\n",
       "       'Paris', 'Hannover', 'Strasbourg', 'Joensuu', 'Sydney',\n",
       "       'Frankfurt am Main', 'San Francisco', 'Oulu', 'Cologne', 'Bochum',\n",
       "       'Stuttgart', 'Hameenlinna', 'London', 'Tampere', 'Adelaide',\n",
       "       'Melbourne', 'Tokyo', 'Jyvaskyla', 'Perth', 'Vantaa', 'Auckland',\n",
       "       'Osaka', 'Bordeaux', 'Milan', 'Madrid', 'Daejeon', 'Nantes',\n",
       "       'Brussels', 'Marseille', 'Leeds', 'Lahti', 'Dublin', 'Abu Dhabi',\n",
       "       'Verona', 'Seoul', 'Nice', 'Tallinn', 'Dubai', 'Catania',\n",
       "       'Bayreuth', 'Turin', 'Florence', 'Birmingham', 'Budapest', 'Bari',\n",
       "       'Bratislava', 'Ljubljana', 'Perugia', 'Tel Aviv', 'Hong Kong',\n",
       "       'Barcelona', 'Ancona', 'Lisbon', 'Prague', 'Rome', 'Shanghai',\n",
       "       'Kuala Lampur', 'Genova', 'Naples', 'Moscow', 'Riga', 'Beijing',\n",
       "       'St Petersburg', 'Calgary', 'Edmonton'], dtype=object)"
      ]
     },
     "execution_count": 4,
     "metadata": {},
     "output_type": "execute_result"
    }
   ],
   "source": [
    "smart.City.unique()"
   ]
  },
  {
   "cell_type": "code",
   "execution_count": null,
   "id": "2c1c7f30",
   "metadata": {},
   "outputs": [],
   "source": [
    "smart.Country.unique()"
   ]
  },
  {
   "cell_type": "markdown",
   "id": "8d9a4f26",
   "metadata": {},
   "source": [
    "# 3. Request data from APIS"
   ]
  },
  {
   "cell_type": "markdown",
   "id": "e33816f5",
   "metadata": {},
   "source": [
    "## 3.1 API COUNTRY - CONTINENTS"
   ]
  },
  {
   "cell_type": "code",
   "execution_count": null,
   "id": "5b0a3af1",
   "metadata": {},
   "outputs": [],
   "source": [
    "import requests\n",
    "\n",
    "url = \"https://referential.p.rapidapi.com/v1/country\"\n",
    "\n",
    "querystring = {\"fields\":\"currency,currency_num_code,currency_code,continent_code,currency,iso_a3,dial_code\"}\n",
    "\n",
    "headers = {\n",
    "    'x-rapidapi-host': \"referential.p.rapidapi.com\",\n",
    "    'x-rapidapi-key': \"33e030ac4cmshbfb8d0e76a97e42p1fe169jsn3da51bbbf4d4\"\n",
    "    }\n",
    "\n",
    "response = requests.request(\"GET\", url, headers=headers, params=querystring)\n",
    "\n",
    "#print(response.text)"
   ]
  },
  {
   "cell_type": "code",
   "execution_count": null,
   "id": "807d53b0",
   "metadata": {},
   "outputs": [],
   "source": [
    "response.json()"
   ]
  },
  {
   "cell_type": "code",
   "execution_count": null,
   "id": "41147df7",
   "metadata": {},
   "outputs": [],
   "source": [
    "def decodear(pais):\n",
    "    for diccionario in response.json():\n",
    "        if pais == \"China\":\n",
    "            return \"AS\"\n",
    "        elif pais == diccionario[\"value\"]:\n",
    "            return diccionario[\"continent_code\"]"
   ]
  },
  {
   "cell_type": "code",
   "execution_count": null,
   "id": "8487dd34",
   "metadata": {},
   "outputs": [],
   "source": [
    "smart[\"prueba\"] = smart.Country.apply(decodear)"
   ]
  },
  {
   "cell_type": "code",
   "execution_count": null,
   "id": "afc1c620",
   "metadata": {},
   "outputs": [],
   "source": [
    "smart.sample(20)"
   ]
  },
  {
   "cell_type": "code",
   "execution_count": null,
   "id": "09dea69d",
   "metadata": {},
   "outputs": [],
   "source": [
    "smart.prueba.unique()"
   ]
  },
  {
   "cell_type": "code",
   "execution_count": null,
   "id": "310fa276",
   "metadata": {},
   "outputs": [],
   "source": [
    "smart.prueba.fillna(0, inplace=True)"
   ]
  },
  {
   "cell_type": "code",
   "execution_count": null,
   "id": "9408452f",
   "metadata": {},
   "outputs": [],
   "source": [
    "smart[smart[\"prueba\"] == 0]"
   ]
  },
  {
   "cell_type": "code",
   "execution_count": null,
   "id": "ede21e6e",
   "metadata": {},
   "outputs": [],
   "source": [
    "df = json_normalize(response.json())"
   ]
  },
  {
   "cell_type": "code",
   "execution_count": null,
   "id": "61edca3c",
   "metadata": {},
   "outputs": [],
   "source": [
    "# Drop unnecessary columns\n",
    "df.drop(columns=[\n",
    "    'iso_a3','currency','currency_code','key', 'currency_num_code'],inplace=True)"
   ]
  },
  {
   "cell_type": "code",
   "execution_count": null,
   "id": "69484da0",
   "metadata": {},
   "outputs": [],
   "source": [
    "df.sample()"
   ]
  },
  {
   "cell_type": "code",
   "execution_count": null,
   "id": "c436f164",
   "metadata": {},
   "outputs": [],
   "source": [
    "df[\"continent_code\"].unique()"
   ]
  },
  {
   "cell_type": "code",
   "execution_count": null,
   "id": "8be1ece2",
   "metadata": {},
   "outputs": [],
   "source": [
    "df.value.unique()"
   ]
  },
  {
   "cell_type": "code",
   "execution_count": null,
   "id": "87b2de23",
   "metadata": {},
   "outputs": [],
   "source": [
    "#df_smart = smart.merge(df,left_on=\"Country\", right_on=\"value\", suffixes=[\"_izq\", \"_dcha\"])\n"
   ]
  },
  {
   "cell_type": "code",
   "execution_count": null,
   "id": "de72a063",
   "metadata": {},
   "outputs": [],
   "source": [
    "df_smart = df.merge(smart,left_on=\"value\", right_on=\"Country\", suffixes=[\"_izq\", \"_dcha\"])\n",
    "#df_smart.sample()"
   ]
  },
  {
   "cell_type": "code",
   "execution_count": null,
   "id": "a4a83577",
   "metadata": {},
   "outputs": [],
   "source": [
    "df_smart"
   ]
  },
  {
   "cell_type": "code",
   "execution_count": null,
   "id": "1346154c",
   "metadata": {},
   "outputs": [],
   "source": [
    "df_smart[\"continent_code\"].unique()"
   ]
  },
  {
   "cell_type": "code",
   "execution_count": null,
   "id": "f5d85277",
   "metadata": {},
   "outputs": [],
   "source": [
    "df_smart[\"Continent\"] = df_smart[\"Continent\"].str.replace(\"NA\", \"North America\")\n",
    "df_smart[\"Continent\"] = df_smart[\"Continent\"].str.replace(\"OC\", \"Oceania\")\n",
    "df_smart[\"Continent\"] = df_smart[\"Continent\"].str.replace(\"EU\", \"Europe\")\n",
    "df_smart[\"Continent\"] = df_smart[\"Continent\"].str.replace(\"AS\", \"Asia\")"
   ]
  },
  {
   "cell_type": "code",
   "execution_count": null,
   "id": "3e57ae32",
   "metadata": {},
   "outputs": [],
   "source": [
    "df_smart.drop(columns=['value'], inplace = True)"
   ]
  },
  {
   "cell_type": "code",
   "execution_count": null,
   "id": "9dd6ed46",
   "metadata": {},
   "outputs": [],
   "source": [
    "continent_code_rename = {\"continent_code\": \"Continent\"}\n",
    "df_smart.rename(columns=continent_code_rename, inplace=True)"
   ]
  },
  {
   "cell_type": "code",
   "execution_count": null,
   "id": "0588942b",
   "metadata": {},
   "outputs": [],
   "source": [
    "df_smart.shape"
   ]
  },
  {
   "cell_type": "code",
   "execution_count": null,
   "id": "5faa2085",
   "metadata": {},
   "outputs": [],
   "source": [
    "df[\"Continent\"].unique()"
   ]
  },
  {
   "cell_type": "code",
   "execution_count": null,
   "id": "2d2926a0",
   "metadata": {},
   "outputs": [],
   "source": [
    "df_smart.isnull().sum()"
   ]
  },
  {
   "cell_type": "code",
   "execution_count": null,
   "id": "1ea6061f",
   "metadata": {},
   "outputs": [],
   "source": [
    "smart.to_csv(\"../data/continent_smart.csv\")"
   ]
  },
  {
   "cell_type": "markdown",
   "id": "dcfb2822",
   "metadata": {},
   "source": [
    "## 3.1 API LIFE QUALITY"
   ]
  },
  {
   "cell_type": "code",
   "execution_count": null,
   "id": "28f23395",
   "metadata": {},
   "outputs": [],
   "source": [
    "smart.City.unique()"
   ]
  },
  {
   "cell_type": "code",
   "execution_count": null,
   "id": "cfec8e29",
   "metadata": {},
   "outputs": [],
   "source": [
    "# as the API only recives certain names in lowercase, I´m going to change the city names\n",
    "# into lowercase"
   ]
  },
  {
   "cell_type": "code",
   "execution_count": null,
   "id": "b1d61840",
   "metadata": {},
   "outputs": [],
   "source": [
    "#cities_lower = map(lambda city:city.lower(),smart.City)\n",
    "print(list(cities_lower))"
   ]
  },
  {
   "cell_type": "code",
   "execution_count": null,
   "id": "142de684",
   "metadata": {},
   "outputs": [],
   "source": [
    "df_smart[\"City\"] = df_smart[\"City\"].apply(cf.lowercase)"
   ]
  },
  {
   "cell_type": "code",
   "execution_count": null,
   "id": "b86a3600",
   "metadata": {},
   "outputs": [],
   "source": [
    "\"\"\"dict_rename = {\n",
    "    \"dÃ\\x83Â¼sseldorf\" : \"dusseldorf\",\n",
    "    \"vã\\x83â¤sterã\\x83â¥s\" : \"vasteras\", V%C3%A4ster%C3%A5s\n",
    "    \"hã\\x83â¤meenlinna\" : \"hameenlinna\",\n",
    "    \"jyvã\\x83â¤skylã\\x83â¤\" : \"jyväskylä\"\n",
    "}\n",
    "df_smart.rename(df_smart[\"City\"] == dict_rename, inplace=True)\n",
    "df_smart.head()\n",
    "\"\"\""
   ]
  },
  {
   "cell_type": "code",
   "execution_count": null,
   "id": "97dc65aa",
   "metadata": {},
   "outputs": [],
   "source": [
    "df_smart.City.unique()"
   ]
  },
  {
   "cell_type": "code",
   "execution_count": null,
   "id": "92d625b6",
   "metadata": {},
   "outputs": [],
   "source": [
    "cities = list(smart.City.unique())"
   ]
  },
  {
   "cell_type": "code",
   "execution_count": null,
   "id": "663d774e",
   "metadata": {},
   "outputs": [],
   "source": [
    "scores =[]\n",
    "for city in cities:\n",
    "    response = requests.get(f\"https://api.teleport.org/api/urban_areas/slug:{city}/scores/\").json().[\"teleport_city_score\"]\n",
    "    scores.append(response)"
   ]
  },
  {
   "cell_type": "markdown",
   "id": "4beecce6",
   "metadata": {},
   "source": [
    "##### EJEMPLO OSLO"
   ]
  },
  {
   "cell_type": "code",
   "execution_count": null,
   "id": "2929523e",
   "metadata": {},
   "outputs": [],
   "source": [
    "oslo = \"https://api.teleport.org/api/urban_areas/slug:oslo/scores/\""
   ]
  },
  {
   "cell_type": "code",
   "execution_count": null,
   "id": "465216f0",
   "metadata": {},
   "outputs": [],
   "source": [
    "response_oslo = requests.get(oslo).json()"
   ]
  },
  {
   "cell_type": "code",
   "execution_count": null,
   "id": "5cf832d0",
   "metadata": {},
   "outputs": [],
   "source": [
    "response_oslo"
   ]
  },
  {
   "cell_type": "code",
   "execution_count": null,
   "id": "6d6ecf34",
   "metadata": {},
   "outputs": [],
   "source": [
    "json_normalize(response_oslo)"
   ]
  },
  {
   "cell_type": "code",
   "execution_count": null,
   "id": "48973000",
   "metadata": {},
   "outputs": [],
   "source": [
    "response_oslo[\"teleport_city_score\"]"
   ]
  },
  {
   "cell_type": "code",
   "execution_count": null,
   "id": "ffd2c035",
   "metadata": {},
   "outputs": [],
   "source": [
    "response_oslo[\"summary\"]"
   ]
  },
  {
   "cell_type": "code",
   "execution_count": null,
   "id": "8a6b44ac",
   "metadata": {},
   "outputs": [],
   "source": [
    "response_oslo[\"summary\"].strip()"
   ]
  }
 ],
 "metadata": {
  "kernelspec": {
   "display_name": "ironhack",
   "language": "python",
   "name": "ironhack"
  },
  "language_info": {
   "codemirror_mode": {
    "name": "ipython",
    "version": 3
   },
   "file_extension": ".py",
   "mimetype": "text/x-python",
   "name": "python",
   "nbconvert_exporter": "python",
   "pygments_lexer": "ipython3",
   "version": "3.8.5"
  }
 },
 "nbformat": 4,
 "nbformat_minor": 5
}
